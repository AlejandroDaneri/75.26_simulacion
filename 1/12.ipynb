{
 "cells": [
  {
   "cell_type": "code",
   "execution_count": 5,
   "metadata": {},
   "outputs": [],
   "source": [
    "import random\n",
    "import matplotlib.pyplot as plt"
   ]
  },
  {
   "cell_type": "markdown",
   "metadata": {},
   "source": [
    "## Primero lo resuelvo con el ejemplo de aca"
   ]
  },
  {
   "cell_type": "markdown",
   "metadata": {},
   "source": [
    "https://www.youtube.com/watch?v=5du6OudVhdg&ab_channel=JorgeHuertas"
   ]
  },
  {
   "cell_type": "markdown",
   "metadata": {},
   "source": [
    "#### Funcion densidad"
   ]
  },
  {
   "cell_type": "markdown",
   "metadata": {},
   "source": [
    "\\begin{equation}\n",
    "f_x(x)=30x(1-x^4)\n",
    "\\end{equation}"
   ]
  },
  {
   "cell_type": "markdown",
   "metadata": {},
   "source": [
    "#### Grafico la funcion densidad"
   ]
  },
  {
   "cell_type": "code",
   "execution_count": 59,
   "metadata": {},
   "outputs": [
    {
     "data": {
      "text/plain": [
       "<matplotlib.collections.PathCollection at 0x7fc63985aed0>"
      ]
     },
     "execution_count": 59,
     "metadata": {},
     "output_type": "execute_result"
    },
    {
     "data": {
      "image/png": "[encoded data removed]",
      "text/plain": [
       "<Figure size 432x288 with 1 Axes>"
      ]
     },
     "metadata": {
      "needs_background": "light"
     },
     "output_type": "display_data"
    }
   ],
   "source": [
    "values_x = []\n",
    "values_y = []\n",
    "for i in range(1000):\n",
    "    x = random.random()\n",
    "    y = 30*x*(1-x)**4\n",
    "    values_x.append(x)\n",
    "    values_y.append(y)\n",
    "plt.scatter(values_x, values_y, c =\"blue\")"
   ]
  },
  {
   "cell_type": "markdown",
   "metadata": {},
   "source": [
    "#### Generacion siguiendo distribucion uniforme [0,1]"
   ]
  },
  {
   "cell_type": "code",
   "execution_count": 32,
   "metadata": {},
   "outputs": [
    {
     "data": {
      "text/plain": [
       "0.17294797804844708"
      ]
     },
     "execution_count": 32,
     "metadata": {},
     "output_type": "execute_result"
    }
   ],
   "source": [
    "u_r = random.random()\n",
    "u_r"
   ]
  },
  {
   "cell_type": "markdown",
   "metadata": {},
   "source": [
    "#### Aplico la funcion inversa que da lo mismo"
   ]
  },
  {
   "cell_type": "code",
   "execution_count": 33,
   "metadata": {},
   "outputs": [
    {
     "data": {
      "text/plain": [
       "0.17294797804844708"
      ]
     },
     "execution_count": 33,
     "metadata": {},
     "output_type": "execute_result"
    }
   ],
   "source": [
    "x = u_r\n",
    "x"
   ]
  },
  {
   "cell_type": "markdown",
   "metadata": {},
   "source": [
    "#### Calculo la probabilidad de aceptar"
   ]
  },
  {
   "cell_type": "code",
   "execution_count": 34,
   "metadata": {},
   "outputs": [
    {
     "data": {
      "text/plain": [
       "0.9710197112725544"
      ]
     },
     "execution_count": 34,
     "metadata": {},
     "output_type": "execute_result"
    }
   ],
   "source": [
    "probabilidad_aceptar = (30*x*(1 - x)**4) / 2.5\n",
    "probabilidad_aceptar"
   ]
  },
  {
   "cell_type": "markdown",
   "metadata": {},
   "source": [
    "#### Generacion siguiendo distribucion uniforme [0,1]"
   ]
  },
  {
   "cell_type": "code",
   "execution_count": 35,
   "metadata": {},
   "outputs": [
    {
     "data": {
      "text/plain": [
       "0.6992511632525142"
      ]
     },
     "execution_count": 35,
     "metadata": {},
     "output_type": "execute_result"
    }
   ],
   "source": [
    "u_r = random.random()\n",
    "u_r"
   ]
  },
  {
   "cell_type": "markdown",
   "metadata": {},
   "source": [
    "#### Lo acepto?"
   ]
  },
  {
   "cell_type": "code",
   "execution_count": 37,
   "metadata": {},
   "outputs": [
    {
     "data": {
      "text/plain": [
       "False"
      ]
     },
     "execution_count": 37,
     "metadata": {},
     "output_type": "execute_result"
    }
   ],
   "source": [
    "u_r > probabilidad_aceptar"
   ]
  },
  {
   "cell_type": "code",
   "execution_count": 60,
   "metadata": {},
   "outputs": [],
   "source": [
    "generados = []\n",
    "for i in range(1000):\n",
    "    u_r = random.random()\n",
    "    x = u_r\n",
    "    probabilidad_aceptar = (30*x*(1 - x)**4) / 2.5\n",
    "    u_r = random.random()\n",
    "    if u_r < probabilidad_aceptar:\n",
    "        generados.append(x)"
   ]
  },
  {
   "cell_type": "code",
   "execution_count": 62,
   "metadata": {},
   "outputs": [
    {
     "data": {
      "text/plain": [
       "<matplotlib.collections.PathCollection at 0x7fc63996d810>"
      ]
     },
     "execution_count": 62,
     "metadata": {},
     "output_type": "execute_result"
    },
    {
     "data": {
      "image/png": "[encoded data removed]",
      "text/plain": [
       "<Figure size 432x288 with 1 Axes>"
      ]
     },
     "metadata": {
      "needs_background": "light"
     },
     "output_type": "display_data"
    }
   ],
   "source": [
    "plt.scatter(range(len(generados)), generados, c =\"blue\")"
   ]
  },
  {
   "cell_type": "markdown",
   "metadata": {},
   "source": [
    "<hr>"
   ]
  },
  {
   "cell_type": "markdown",
   "metadata": {},
   "source": [
    "#### Funcion densidad"
   ]
  },
  {
   "cell_type": "markdown",
   "metadata": {},
   "source": [
    "\\begin{equation}\n",
    "f_x(x)=30(x^2 - 2x^3+ x^4)\n",
    "\\end{equation}"
   ]
  },
  {
   "cell_type": "code",
   "execution_count": 10,
   "metadata": {},
   "outputs": [],
   "source": [
    "def f_x(x):\n",
    "    return 30*(x**2 - 2*x**3 + x**4)"
   ]
  },
  {
   "cell_type": "markdown",
   "metadata": {},
   "source": [
    "#### Grafico la funcion densidad"
   ]
  },
  {
   "cell_type": "code",
   "execution_count": 11,
   "metadata": {},
   "outputs": [
    {
     "data": {
      "text/plain": [
       "<matplotlib.collections.PathCollection at 0x7f894c529750>"
      ]
     },
     "execution_count": 11,
     "metadata": {},
     "output_type": "execute_result"
    },
    {
     "data": {
      "image/png": "[encoded data removed]",
      "text/plain": [
       "<Figure size 432x288 with 1 Axes>"
      ]
     },
     "metadata": {
      "needs_background": "light"
     },
     "output_type": "display_data"
    }
   ],
   "source": [
    "values_x = []\n",
    "values_y = []\n",
    "for i in range(1000):\n",
    "    x = random.random()\n",
    "    y = f_x(x)\n",
    "    values_x.append(x)\n",
    "    values_y.append(y)\n",
    "plt.scatter(values_x, values_y, c =\"blue\")"
   ]
  },
  {
   "cell_type": "markdown",
   "metadata": {},
   "source": [
    "####  Busco la funcion que mayoriza esta f"
   ]
  },
  {
   "cell_type": "code",
   "execution_count": 12,
   "metadata": {},
   "outputs": [
    {
     "data": {
      "text/plain": [
       "1.875"
      ]
     },
     "execution_count": 12,
     "metadata": {},
     "output_type": "execute_result"
    }
   ],
   "source": [
    "f_x(1/2)"
   ]
  },
  {
   "cell_type": "code",
   "execution_count": 13,
   "metadata": {},
   "outputs": [],
   "source": [
    "def t(x):\n",
    "    return 1.875"
   ]
  },
  {
   "cell_type": "code",
   "execution_count": 14,
   "metadata": {},
   "outputs": [
    {
     "data": {
      "text/plain": [
       "<matplotlib.collections.PathCollection at 0x7f894c6361d0>"
      ]
     },
     "execution_count": 14,
     "metadata": {},
     "output_type": "execute_result"
    },
    {
     "data": {
      "image/png": "[encoded data removed]",
      "text/plain": [
       "<Figure size 432x288 with 1 Axes>"
      ]
     },
     "metadata": {
      "needs_background": "light"
     },
     "output_type": "display_data"
    }
   ],
   "source": [
    "values_x = []\n",
    "values_y = []\n",
    "for i in range(1000):\n",
    "    x = random.random()\n",
    "    y = t(x)\n",
    "    values_x.append(x)\n",
    "    values_y.append(y)\n",
    "plt.scatter(values_x, values_y, c =\"blue\")"
   ]
  },
  {
   "cell_type": "code",
   "execution_count": 20,
   "metadata": {},
   "outputs": [
    {
     "data": {
      "text/plain": [
       "<matplotlib.collections.PathCollection at 0x7f894ca96b90>"
      ]
     },
     "execution_count": 20,
     "metadata": {},
     "output_type": "execute_result"
    },
    {
     "data": {
      "image/png": "[encoded data removed]",
      "text/plain": [
       "<Figure size 432x288 with 1 Axes>"
      ]
     },
     "metadata": {
      "needs_background": "light"
     },
     "output_type": "display_data"
    }
   ],
   "source": [
    "values_x = []\n",
    "values_y = []\n",
    "values_t = []\n",
    "for i in range(1000):\n",
    "    x = random.random()\n",
    "    y = f_x(x)\n",
    "    t_ = t(x)\n",
    "    values_x.append(x)\n",
    "    values_y.append(y)\n",
    "    values_t.append(t_)\n",
    "plt.scatter(values_x, values_y, c =\"blue\")\n",
    "plt.scatter(values_x, values_t, c =\"blue\")"
   ]
  },
  {
   "cell_type": "code",
   "execution_count": 28,
   "metadata": {},
   "outputs": [],
   "source": [
    "generados = []\n",
    "for i in range(1000):\n",
    "    # las variables u_r, x son lo mismo porque\n",
    "    # la inversa de x queda igual\n",
    "    u_r = random.random()\n",
    "    x = u_r\n",
    "    probabilidad_aceptar = f_x(x) / t(x)\n",
    "    u_r = random.random()\n",
    "    if u_r < probabilidad_aceptar:\n",
    "        generados.append(x)"
   ]
  },
  {
   "cell_type": "code",
   "execution_count": 29,
   "metadata": {},
   "outputs": [
    {
     "data": {
      "text/plain": [
       "[0.3574567579272754,\n",
       " 0.5290909893232705,\n",
       " 0.8642273660611665,\n",
       " 0.6039105067351794,\n",
       " 0.4762982329207869,\n",
       " 0.3860430736123711,\n",
       " 0.35076111630082496,\n",
       " 0.47618472096962605,\n",
       " 0.9626377978164112,\n",
       " 0.6045068416524397,\n",
       " 0.13438791947551154,\n",
       " 0.39009650059655543,\n",
       " 0.3992772193773495,\n",
       " 0.6002870384349893,\n",
       " 0.6282540074787494,\n",
       " 0.7813716879001474,\n",
       " 0.20550587130691533,\n",
       " 0.5918136873838631,\n",
       " 0.2576886837521204,\n",
       " 0.5635986187512386,\n",
       " 0.6382599924322455,\n",
       " 0.7569668495811236,\n",
       " 0.5981350060257196,\n",
       " 0.5252869381014319,\n",
       " 0.5121110954214334,\n",
       " 0.13474286525235968,\n",
       " 0.37211549690701407,\n",
       " 0.41881074289277276,\n",
       " 0.6399169920312706,\n",
       " 0.1864140822324185,\n",
       " 0.320161152289979,\n",
       " 0.4924401697119053,\n",
       " 0.4899981687190089,\n",
       " 0.19517427445018865,\n",
       " 0.3957542521068632,\n",
       " 0.4006660872053446,\n",
       " 0.5984209064218166,\n",
       " 0.41486126067545503,\n",
       " 0.5172877823390508,\n",
       " 0.6925037353870336,\n",
       " 0.48318337120388266,\n",
       " 0.9058418821996045,\n",
       " 0.4514749152467352,\n",
       " 0.3356498286640993,\n",
       " 0.34958441754146696,\n",
       " 0.0856434596303427,\n",
       " 0.6134085213932186,\n",
       " 0.9072117677696604,\n",
       " 0.16396867546930005,\n",
       " 0.4221228458760026,\n",
       " 0.1682844661402504,\n",
       " 0.36888960260991865,\n",
       " 0.44506428622273,\n",
       " 0.5234721802231384,\n",
       " 0.41054374834455043,\n",
       " 0.7452984956016736,\n",
       " 0.46732087791538357,\n",
       " 0.3804601410868802,\n",
       " 0.13971712931141134,\n",
       " 0.5718001104109566,\n",
       " 0.6228464704791845,\n",
       " 0.5530366706828974,\n",
       " 0.17750853003692346,\n",
       " 0.7498736113965998,\n",
       " 0.5951602705909526,\n",
       " 0.6333859154147209,\n",
       " 0.5750632473073337,\n",
       " 0.6504937923405685,\n",
       " 0.38495537720852924,\n",
       " 0.26800080872495013,\n",
       " 0.4870677733750097,\n",
       " 0.42903497937461665,\n",
       " 0.39263349434115824,\n",
       " 0.419162849560031,\n",
       " 0.3772955914197651,\n",
       " 0.5830114354020807,\n",
       " 0.5030759788505963,\n",
       " 0.662861522181641,\n",
       " 0.678896222356429,\n",
       " 0.5386025709353689,\n",
       " 0.4685674113064814,\n",
       " 0.4259614150049932,\n",
       " 0.3169471107426901,\n",
       " 0.8326525915483938,\n",
       " 0.5000309063207786,\n",
       " 0.5573065730192691,\n",
       " 0.7027943836026798,\n",
       " 0.49595814811737915,\n",
       " 0.4928309376614374,\n",
       " 0.3912693019640828,\n",
       " 0.26478905549662124,\n",
       " 0.47247188828520226,\n",
       " 0.39460781122861066,\n",
       " 0.5490826260905269,\n",
       " 0.8309355439369238,\n",
       " 0.5777254583030889,\n",
       " 0.39994264418095915,\n",
       " 0.2544205927622555,\n",
       " 0.5502279067191643,\n",
       " 0.14805166988476137,\n",
       " 0.72012253579621,\n",
       " 0.39935626745955344,\n",
       " 0.540795776054433,\n",
       " 0.09593508257577277,\n",
       " 0.39859751078066263,\n",
       " 0.32351473756398663,\n",
       " 0.46916391331508167,\n",
       " 0.5788203236313387,\n",
       " 0.6837562830746107,\n",
       " 0.6396661684716284,\n",
       " 0.5847776545322144,\n",
       " 0.5320985180442692,\n",
       " 0.25548608623125546,\n",
       " 0.8779037934321429,\n",
       " 0.18324545406498027,\n",
       " 0.13113445153026648,\n",
       " 0.47998772550870217,\n",
       " 0.35660899625244424,\n",
       " 0.38939871792065617,\n",
       " 0.29254573280081575,\n",
       " 0.2622262640744297,\n",
       " 0.32721128943877464,\n",
       " 0.5535957329249384,\n",
       " 0.4113670355818033,\n",
       " 0.33868239172228687,\n",
       " 0.7556619672608683,\n",
       " 0.3692557230994702,\n",
       " 0.18250948079198526,\n",
       " 0.3820259697465779,\n",
       " 0.642146813230513,\n",
       " 0.43172694550680124,\n",
       " 0.554888040060372,\n",
       " 0.16508220731256273,\n",
       " 0.23227656047671674,\n",
       " 0.33999432136549024,\n",
       " 0.4336347681510405,\n",
       " 0.7490465515736737,\n",
       " 0.2871431100205356,\n",
       " 0.45958634506837204,\n",
       " 0.6872259625483822,\n",
       " 0.25301470243573987,\n",
       " 0.20739430087620792,\n",
       " 0.36954148033175405,\n",
       " 0.09952986952584919,\n",
       " 0.5272237791924697,\n",
       " 0.29708596459487213,\n",
       " 0.47466131390317523,\n",
       " 0.3383359996511305,\n",
       " 0.7488048075087129,\n",
       " 0.3504163944593317,\n",
       " 0.299094663259899,\n",
       " 0.44623095329780016,\n",
       " 0.6934740510529103,\n",
       " 0.3279464778382474,\n",
       " 0.11680331113213771,\n",
       " 0.5448275248221638,\n",
       " 0.16975270422108468,\n",
       " 0.360098333762914,\n",
       " 0.3379510319902451,\n",
       " 0.5052507211190911,\n",
       " 0.6591955085412989,\n",
       " 0.21018146806158533,\n",
       " 0.39964856034423,\n",
       " 0.4844196562863031,\n",
       " 0.522564308882867,\n",
       " 0.7071193768105553,\n",
       " 0.3617708801185894,\n",
       " 0.6560821566134757,\n",
       " 0.2071854318153542,\n",
       " 0.6183733910496698,\n",
       " 0.3764516596225086,\n",
       " 0.589357896486776,\n",
       " 0.4593177567767086,\n",
       " 0.655813596222715,\n",
       " 0.6081775439008065,\n",
       " 0.5675972970966624,\n",
       " 0.3770522635312442,\n",
       " 0.42934195249218676,\n",
       " 0.604617239043562,\n",
       " 0.78892189451815,\n",
       " 0.6388681526356329,\n",
       " 0.8252788022566739,\n",
       " 0.1772657454696741,\n",
       " 0.5554123742946502,\n",
       " 0.4945841122099657,\n",
       " 0.6427696546411753,\n",
       " 0.4523872732443248,\n",
       " 0.5367480852457025,\n",
       " 0.6611912599120641,\n",
       " 0.256481277889832,\n",
       " 0.7564968193084141,\n",
       " 0.5357931022748376,\n",
       " 0.2643610321151748,\n",
       " 0.4393395728628334,\n",
       " 0.34364776152370347,\n",
       " 0.4808025422907407,\n",
       " 0.5242726488497591,\n",
       " 0.19778798551073573,\n",
       " 0.7565796829955114,\n",
       " 0.8883773037115128,\n",
       " 0.3054932890729676,\n",
       " 0.7426324068683985,\n",
       " 0.5659681285100843,\n",
       " 0.24324652475349007,\n",
       " 0.3785344728780379,\n",
       " 0.5987276953892406,\n",
       " 0.5421876624776324,\n",
       " 0.5626624222716444,\n",
       " 0.17480424614081091,\n",
       " 0.5748406432346805,\n",
       " 0.46872328164199517,\n",
       " 0.4288260183823458,\n",
       " 0.744070441281663,\n",
       " 0.7265558248460675,\n",
       " 0.6005935834583292,\n",
       " 0.7184535004180804,\n",
       " 0.4275145088470177,\n",
       " 0.27421854488557873,\n",
       " 0.7509676095279337,\n",
       " 0.5357400023994454,\n",
       " 0.20729086239659267,\n",
       " 0.40594712246350284,\n",
       " 0.2968652097444221,\n",
       " 0.435448659063455,\n",
       " 0.3100768668763648,\n",
       " 0.35256829379262733,\n",
       " 0.42020610807307723,\n",
       " 0.6590664245006753,\n",
       " 0.31826004973412436,\n",
       " 0.6843981750525588,\n",
       " 0.2618778856151345,\n",
       " 0.3985215338581579,\n",
       " 0.8469400418521114,\n",
       " 0.2985290795054345,\n",
       " 0.28903948127856216,\n",
       " 0.7227333929896375,\n",
       " 0.46609423279718576,\n",
       " 0.3637584171667064,\n",
       " 0.6207546479625621,\n",
       " 0.6982739729287573,\n",
       " 0.789605529303659,\n",
       " 0.8413830406127148,\n",
       " 0.39013268780399146,\n",
       " 0.11589883245037769,\n",
       " 0.3966622144771287,\n",
       " 0.2618388875395298,\n",
       " 0.40917301886775226,\n",
       " 0.6397491096620679,\n",
       " 0.4049040444260039,\n",
       " 0.45042111584141287,\n",
       " 0.6331196372491587,\n",
       " 0.10477673629671547,\n",
       " 0.5133748109112193,\n",
       " 0.6092659538304246,\n",
       " 0.7116997364829739,\n",
       " 0.7091454570948129,\n",
       " 0.5144204293399269,\n",
       " 0.25787343461547696,\n",
       " 0.5444040432170366,\n",
       " 0.7552959929202001,\n",
       " 0.17587455311345734,\n",
       " 0.8341833252852972,\n",
       " 0.408500517135277,\n",
       " 0.4085266393235454,\n",
       " 0.47436550771320996,\n",
       " 0.4105411191125201,\n",
       " 0.7487909786998094,\n",
       " 0.31782123011132324,\n",
       " 0.35340610873096123,\n",
       " 0.5063576959237969,\n",
       " 0.25496431511966744,\n",
       " 0.5433339616927445,\n",
       " 0.8362334660772966,\n",
       " 0.6289680112823107,\n",
       " 0.8177421308136317,\n",
       " 0.3304053573218768,\n",
       " 0.6068743045184201,\n",
       " 0.23646405787781277,\n",
       " 0.6031410390804892,\n",
       " 0.37010159752278127,\n",
       " 0.437016225463026,\n",
       " 0.4453447850837654,\n",
       " 0.371002569808932,\n",
       " 0.5062537551745807,\n",
       " 0.627757839569196,\n",
       " 0.42611643057148163,\n",
       " 0.35344469367099407,\n",
       " 0.17740839484861226,\n",
       " 0.3220710620073046,\n",
       " 0.5018163648647728,\n",
       " 0.5241755963984344,\n",
       " 0.5118844726012148,\n",
       " 0.6756457141837666,\n",
       " 0.6278138251535375,\n",
       " 0.2657089998943156,\n",
       " 0.6685934020253033,\n",
       " 0.49926149838866185,\n",
       " 0.552892227409566,\n",
       " 0.5426259819102661,\n",
       " 0.33427149702698666,\n",
       " 0.45540176872640314,\n",
       " 0.7743887826614801,\n",
       " 0.505438076551077,\n",
       " 0.6526809732713947,\n",
       " 0.44218475982858096,\n",
       " 0.45948096409346695,\n",
       " 0.1701528601567519,\n",
       " 0.5985680778519781,\n",
       " 0.4663305057859659,\n",
       " 0.3899539950504548,\n",
       " 0.5318816186218044,\n",
       " 0.32216667494644124,\n",
       " 0.2853462541469013,\n",
       " 0.789286910777341,\n",
       " 0.40436982157941714,\n",
       " 0.4873617501138017,\n",
       " 0.6972445726936173,\n",
       " 0.4445715741819142,\n",
       " 0.6524042322805383,\n",
       " 0.3449615576803654,\n",
       " 0.32231798488925456,\n",
       " 0.4521965011979703,\n",
       " 0.5784221044173701,\n",
       " 0.3610805403938817,\n",
       " 0.7232368385528708,\n",
       " 0.30511255039772367,\n",
       " 0.4377676338704183,\n",
       " 0.6784353313908548,\n",
       " 0.5243474256340769,\n",
       " 0.6240948571579686,\n",
       " 0.7120922532109014,\n",
       " 0.6742067266994792,\n",
       " 0.7432491509358786,\n",
       " 0.5630931625449511,\n",
       " 0.6740887012637242,\n",
       " 0.39536553576618216,\n",
       " 0.4504905191257066,\n",
       " 0.5307913693777643,\n",
       " 0.5539037938385153,\n",
       " 0.6727064492880004,\n",
       " 0.369666686737422,\n",
       " 0.5708502202251607,\n",
       " 0.5698251558450034,\n",
       " 0.5050364944077766,\n",
       " 0.201930628832527,\n",
       " 0.3508623905474896,\n",
       " 0.19092010324741548,\n",
       " 0.6883033771866336,\n",
       " 0.34734814683135173,\n",
       " 0.7686502548415269,\n",
       " 0.5054314889314085,\n",
       " 0.393514906589165,\n",
       " 0.3606199574778647,\n",
       " 0.5055301285794875,\n",
       " 0.3800694286798072,\n",
       " 0.1424016595765204,\n",
       " 0.8538921412485121,\n",
       " 0.5656589301714707,\n",
       " 0.06826817287530218,\n",
       " 0.3370497489458524,\n",
       " 0.7324258598421589,\n",
       " 0.43139539847415687,\n",
       " 0.4395897670171963,\n",
       " 0.6805901584850463,\n",
       " 0.561386346441898,\n",
       " 0.8397705968434143,\n",
       " 0.36652110895385503,\n",
       " 0.5233965473949492,\n",
       " 0.5991543484466983,\n",
       " 0.2859940909654358,\n",
       " 0.5386912135062777,\n",
       " 0.5657866826624761,\n",
       " 0.5995612740946444,\n",
       " 0.34276498282847545,\n",
       " 0.4487690935488904,\n",
       " 0.5221164085015096,\n",
       " 0.5025905233766528,\n",
       " 0.1476497554887839,\n",
       " 0.6550302941828959,\n",
       " 0.43371662029395275,\n",
       " 0.7297085024532529,\n",
       " 0.5569488560151893,\n",
       " 0.8816557472646399,\n",
       " 0.2202033892194527,\n",
       " 0.5793566194186847,\n",
       " 0.48262865834483093,\n",
       " 0.7333172733642874,\n",
       " 0.6435412501070167,\n",
       " 0.6119340222284773,\n",
       " 0.7890427454700314,\n",
       " 0.5070735868262826,\n",
       " 0.6678044339971929,\n",
       " 0.5996469730733309,\n",
       " 0.5210698762785477,\n",
       " 0.6247390481040254,\n",
       " 0.3906219461964985,\n",
       " 0.275003889881806,\n",
       " 0.6273793272757727,\n",
       " 0.7749471496136628,\n",
       " 0.6069316287322031,\n",
       " 0.67534903577581,\n",
       " 0.8564015679213286,\n",
       " 0.4283322387830024,\n",
       " 0.5524592007218296,\n",
       " 0.6597878846279309,\n",
       " 0.3988091844963998,\n",
       " 0.7572925363936728,\n",
       " 0.7254196063654585,\n",
       " 0.3123402488832592,\n",
       " 0.42033212066420755,\n",
       " 0.4518972295462841,\n",
       " 0.12071683284427126,\n",
       " 0.5713835374123676,\n",
       " 0.3911843199108177,\n",
       " 0.7946426541339626,\n",
       " 0.19733576003629838,\n",
       " 0.5170183954163643,\n",
       " 0.3207284369502498,\n",
       " 0.49839722110975915,\n",
       " 0.438348189602206,\n",
       " 0.5819229114182021,\n",
       " 0.7872805993297339,\n",
       " 0.25353623666989844,\n",
       " 0.2865170717818676,\n",
       " 0.6220237086474526,\n",
       " 0.4860645150317765,\n",
       " 0.3505489536771784,\n",
       " 0.5230511426028812,\n",
       " 0.4166437356264593,\n",
       " 0.3271035706699298,\n",
       " 0.6215544633729033,\n",
       " 0.6530982480732129,\n",
       " 0.31994960501727154,\n",
       " 0.45836947952679596,\n",
       " 0.2614089668194477,\n",
       " 0.7069049621546556,\n",
       " 0.5955295576557292,\n",
       " 0.5237211812438173,\n",
       " 0.3802213200952538,\n",
       " 0.35783065174531026,\n",
       " 0.701305177223746,\n",
       " 0.20487818375144207,\n",
       " 0.2610433223033378,\n",
       " 0.5654478188567618,\n",
       " 0.352097147746805,\n",
       " 0.211009703099722,\n",
       " 0.3995166450883336,\n",
       " 0.6143511906893692,\n",
       " 0.5609722789890766,\n",
       " 0.43961030463746,\n",
       " 0.6238861078704059,\n",
       " 0.5664681387541884,\n",
       " 0.5800030884588915,\n",
       " 0.6516744976254967,\n",
       " 0.2186194100102199,\n",
       " 0.19766923386367086,\n",
       " 0.3254275862105438,\n",
       " 0.23115433126772833,\n",
       " 0.8859988269245829,\n",
       " 0.547035278046351,\n",
       " 0.5659700700768514,\n",
       " 0.356760200551025,\n",
       " 0.2820362657672465,\n",
       " 0.6000727154767537,\n",
       " 0.17898487330826585,\n",
       " 0.4065729726926237,\n",
       " 0.6317703646929115,\n",
       " 0.5491463210922921,\n",
       " 0.46888811109043727,\n",
       " 0.2310361722785681,\n",
       " 0.35210631001690196,\n",
       " 0.8128524252618806,\n",
       " 0.6509257618097366,\n",
       " 0.3628383939866827,\n",
       " 0.37471189106588054,\n",
       " 0.1221672969736668,\n",
       " 0.6116973426308858,\n",
       " 0.4454133142324609,\n",
       " 0.4353001365715553,\n",
       " 0.41281024809396183,\n",
       " 0.47831871655115543,\n",
       " 0.7139351288778949,\n",
       " 0.3392751177756974,\n",
       " 0.5559294548544871,\n",
       " 0.15550385388331744,\n",
       " 0.48331527926979445,\n",
       " 0.4462564315054298,\n",
       " 0.23412143434107813,\n",
       " 0.5933386959554738,\n",
       " 0.2111875594822742,\n",
       " 0.017096134029933263,\n",
       " 0.4767721525513594,\n",
       " 0.639931413143942,\n",
       " 0.6308499882264906,\n",
       " 0.31216954223048654,\n",
       " 0.605095632371959,\n",
       " 0.5753487228430857,\n",
       " 0.3440382697844371,\n",
       " 0.42010822772293877,\n",
       " 0.806250353296341,\n",
       " 0.48327857928434204,\n",
       " 0.5648949920995728,\n",
       " 0.16802711581914465,\n",
       " 0.7711217860125211,\n",
       " 0.5253595380753051,\n",
       " 0.7177768623288621,\n",
       " 0.47258820527399825,\n",
       " 0.511466659432943,\n",
       " 0.51014984732035,\n",
       " 0.21576313643887302,\n",
       " 0.5505304466434098,\n",
       " 0.5514967790707207,\n",
       " 0.7587943868008657,\n",
       " 0.447614926414,\n",
       " 0.6918049442160764]"
      ]
     },
     "execution_count": 29,
     "metadata": {},
     "output_type": "execute_result"
    }
   ],
   "source": [
    "generados"
   ]
  },
  {
   "cell_type": "code",
   "execution_count": 30,
   "metadata": {},
   "outputs": [
    {
     "data": {
      "text/plain": [
       "<matplotlib.collections.PathCollection at 0x7f894c9d3a90>"
      ]
     },
     "execution_count": 30,
     "metadata": {},
     "output_type": "execute_result"
    },
    {
     "data": {
      "image/png": "[encoded data removed]",
      "text/plain": [
       "<Figure size 432x288 with 1 Axes>"
      ]
     },
     "metadata": {
      "needs_background": "light"
     },
     "output_type": "display_data"
    }
   ],
   "source": [
    "plt.scatter(range(len(generados)), generados, c =\"blue\")"
   ]
  }
 ],
 "metadata": {
  "kernelspec": {
   "display_name": "Python 3",
   "language": "python",
   "name": "python3"
  },
  "language_info": {
   "codemirror_mode": {
    "name": "ipython",
    "version": 3
   },
   "file_extension": ".py",
   "mimetype": "text/x-python",
   "name": "python",
   "nbconvert_exporter": "python",
   "pygments_lexer": "ipython3",
   "version": "3.7.6"
  }
 },
 "nbformat": 4,
 "nbformat_minor": 4
}

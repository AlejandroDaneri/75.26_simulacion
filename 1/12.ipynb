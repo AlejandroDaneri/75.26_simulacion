{
 "cells": [
  {
   "cell_type": "code",
   "execution_count": 5,
   "metadata": {},
   "outputs": [],
   "source": [
    "import random\n",
    "import matplotlib.pyplot as plt"
   ]
  },
  {
   "cell_type": "markdown",
   "metadata": {},
   "source": [
    "## Primero lo resuelvo con el ejemplo de aca"
   ]
  },
  {
   "cell_type": "markdown",
   "metadata": {},
   "source": [
    "https://www.youtube.com/watch?v=5du6OudVhdg&ab_channel=JorgeHuertas"
   ]
  },
  {
   "cell_type": "markdown",
   "metadata": {},
   "source": [
    "#### Funcion densidad"
   ]
  },
  {
   "cell_type": "markdown",
   "metadata": {},
   "source": [
    "\\begin{equation}\n",
    "f_x(x)=30x(1-x^4)\n",
    "\\end{equation}"
   ]
  },
  {
   "cell_type": "markdown",
   "metadata": {},
   "source": [
    "#### Grafico la funcion densidad"
   ]
  },
  {
   "cell_type": "code",
   "execution_count": 59,
   "metadata": {},
   "outputs": [
    {
     "data": {
      "text/plain": [
       "<matplotlib.collections.PathCollection at 0x7fc63985aed0>"
      ]
     },
     "execution_count": 59,
     "metadata": {},
     "output_type": "execute_result"
    },
    {
     "data": {
      "image/png": "[encoded data removed]",
      "text/plain": [
       "<Figure size 432x288 with 1 Axes>"
      ]
     },
     "metadata": {
      "needs_background": "light"
     },
     "output_type": "display_data"
    }
   ],
   "source": [
    "values_x = []\n",
    "values_y = []\n",
    "for i in range(1000):\n",
    "    x = random.random()\n",
    "    y = 30*x*(1-x)**4\n",
    "    values_x.append(x)\n",
    "    values_y.append(y)\n",
    "plt.scatter(values_x, values_y, c =\"blue\")"
   ]
  },
  {
   "cell_type": "markdown",
   "metadata": {},
   "source": [
    "#### Generacion siguiendo distribucion uniforme [0,1]"
   ]
  },
  {
   "cell_type": "code",
   "execution_count": 32,
   "metadata": {},
   "outputs": [
    {
     "data": {
      "text/plain": [
       "0.17294797804844708"
      ]
     },
     "execution_count": 32,
     "metadata": {},
     "output_type": "execute_result"
    }
   ],
   "source": [
    "u_r = random.random()\n",
    "u_r"
   ]
  },
  {
   "cell_type": "markdown",
   "metadata": {},
   "source": [
    "#### Aplico la funcion inversa que da lo mismo"
   ]
  },
  {
   "cell_type": "code",
   "execution_count": 33,
   "metadata": {},
   "outputs": [
    {
     "data": {
      "text/plain": [
       "0.17294797804844708"
      ]
     },
     "execution_count": 33,
     "metadata": {},
     "output_type": "execute_result"
    }
   ],
   "source": [
    "x = u_r\n",
    "x"
   ]
  },
  {
   "cell_type": "markdown",
   "metadata": {},
   "source": [
    "#### Calculo la probabilidad de aceptar"
   ]
  },
  {
   "cell_type": "code",
   "execution_count": 34,
   "metadata": {},
   "outputs": [
    {
     "data": {
      "text/plain": [
       "0.9710197112725544"
      ]
     },
     "execution_count": 34,
     "metadata": {},
     "output_type": "execute_result"
    }
   ],
   "source": [
    "probabilidad_aceptar = (30*x*(1 - x)**4) / 2.5\n",
    "probabilidad_aceptar"
   ]
  },
  {
   "cell_type": "markdown",
   "metadata": {},
   "source": [
    "#### Generacion siguiendo distribucion uniforme [0,1]"
   ]
  },
  {
   "cell_type": "code",
   "execution_count": 35,
   "metadata": {},
   "outputs": [
    {
     "data": {
      "text/plain": [
       "0.6992511632525142"
      ]
     },
     "execution_count": 35,
     "metadata": {},
     "output_type": "execute_result"
    }
   ],
   "source": [
    "u_r = random.random()\n",
    "u_r"
   ]
  },
  {
   "cell_type": "markdown",
   "metadata": {},
   "source": [
    "#### Lo acepto?"
   ]
  },
  {
   "cell_type": "code",
   "execution_count": 37,
   "metadata": {},
   "outputs": [
    {
     "data": {
      "text/plain": [
       "False"
      ]
     },
     "execution_count": 37,
     "metadata": {},
     "output_type": "execute_result"
    }
   ],
   "source": [
    "u_r > probabilidad_aceptar"
   ]
  },
  {
   "cell_type": "code",
   "execution_count": 60,
   "metadata": {},
   "outputs": [],
   "source": [
    "generados = []\n",
    "for i in range(1000):\n",
    "    u_r = random.random()\n",
    "    x = u_r\n",
    "    probabilidad_aceptar = (30*x*(1 - x)**4) / 2.5\n",
    "    u_r = random.random()\n",
    "    if u_r < probabilidad_aceptar:\n",
    "        generados.append(x)"
   ]
  },
  {
   "cell_type": "code",
   "execution_count": 62,
   "metadata": {},
   "outputs": [
    {
     "data": {
      "text/plain": [
       "<matplotlib.collections.PathCollection at 0x7fc63996d810>"
      ]
     },
     "execution_count": 62,
     "metadata": {},
     "output_type": "execute_result"
    },
    {
     "data": {
      "image/png": "[encoded data removed]",
      "text/plain": [
       "<Figure size 432x288 with 1 Axes>"
      ]
     },
     "metadata": {
      "needs_background": "light"
     },
     "output_type": "display_data"
    }
   ],
   "source": [
    "plt.scatter(range(len(generados)), generados, c =\"blue\")"
   ]
  },
  {
   "cell_type": "markdown",
   "metadata": {},
   "source": [
    "<hr>"
   ]
  },
  {
   "cell_type": "markdown",
   "metadata": {},
   "source": [
    "#### Funcion densidad"
   ]
  },
  {
   "cell_type": "markdown",
   "metadata": {},
   "source": [
    "\\begin{equation}\n",
    "f_x(x)=30(x^2 - 2x^3+ x^4)\n",
    "\\end{equation}"
   ]
  },
  {
   "cell_type": "code",
   "execution_count": 10,
   "metadata": {},
   "outputs": [],
   "source": [
    "def f_x(x):\n",
    "    return 30*(x**2 - 2*x**3 + x**4)"
   ]
  },
  {
   "cell_type": "markdown",
   "metadata": {},
   "source": [
    "#### Grafico la funcion densidad"
   ]
  },
  {
   "cell_type": "code",
   "execution_count": 11,
   "metadata": {},
   "outputs": [
    {
     "data": {
      "text/plain": [
       "<matplotlib.collections.PathCollection at 0x7f894c529750>"
      ]
     },
     "execution_count": 11,
     "metadata": {},
     "output_type": "execute_result"
    },
    {
     "data": {
      "image/png": "[encoded data removed]",
      "text/plain": [
       "<Figure size 432x288 with 1 Axes>"
      ]
     },
     "metadata": {
      "needs_background": "light"
     },
     "output_type": "display_data"
    }
   ],
   "source": [
    "values_x = []\n",
    "values_y = []\n",
    "for i in range(1000):\n",
    "    x = random.random()\n",
    "    y = f_x(x)\n",
    "    values_x.append(x)\n",
    "    values_y.append(y)\n",
    "plt.scatter(values_x, values_y, c =\"blue\")"
   ]
  },
  {
   "cell_type": "markdown",
   "metadata": {},
   "source": [
    "####  Busco la funcion que mayoriza esta f"
   ]
  },
  {
   "cell_type": "code",
   "execution_count": 12,
   "metadata": {},
   "outputs": [
    {
     "data": {
      "text/plain": [
       "1.875"
      ]
     },
     "execution_count": 12,
     "metadata": {},
     "output_type": "execute_result"
    }
   ],
   "source": [
    "f_x(1/2)"
   ]
  },
  {
   "cell_type": "code",
   "execution_count": 13,
   "metadata": {},
   "outputs": [],
   "source": [
    "def t(x):\n",
    "    return 1.875"
   ]
  },
  {
   "cell_type": "code",
   "execution_count": 14,
   "metadata": {},
   "outputs": [
    {
     "data": {
      "text/plain": [
       "<matplotlib.collections.PathCollection at 0x7f894c6361d0>"
      ]
     },
     "execution_count": 14,
     "metadata": {},
     "output_type": "execute_result"
    },
    {
     "data": {
      "image/png": "[encoded data removed]",
      "text/plain": [
       "<Figure size 432x288 with 1 Axes>"
      ]
     },
     "metadata": {
      "needs_background": "light"
     },
     "output_type": "display_data"
    }
   ],
   "source": [
    "values_x = []\n",
    "values_y = []\n",
    "for i in range(1000):\n",
    "    x = random.random()\n",
    "    y = t(x)\n",
    "    values_x.append(x)\n",
    "    values_y.append(y)\n",
    "plt.scatter(values_x, values_y, c =\"blue\")"
   ]
  },
  {
   "cell_type": "code",
   "execution_count": 20,
   "metadata": {},
   "outputs": [
    {
     "data": {
      "text/plain": [
       "<matplotlib.collections.PathCollection at 0x7f894ca96b90>"
      ]
     },
     "execution_count": 20,
     "metadata": {},
     "output_type": "execute_result"
    },
    {
     "data": {
      "image/png": "[encoded data removed]",
      "text/plain": [
       "<Figure size 432x288 with 1 Axes>"
      ]
     },
     "metadata": {
      "needs_background": "light"
     },
     "output_type": "display_data"
    }
   ],
   "source": [
    "values_x = []\n",
    "values_y = []\n",
    "values_t = []\n",
    "for i in range(1000):\n",
    "    x = random.random()\n",
    "    y = f_x(x)\n",
    "    t_ = t(x)\n",
    "    values_x.append(x)\n",
    "    values_y.append(y)\n",
    "    values_t.append(t_)\n",
    "plt.scatter(values_x, values_y, c =\"blue\")\n",
    "plt.scatter(values_x, values_t, c =\"blue\")"
   ]
  },
  {
   "cell_type": "code",
   "execution_count": 23,
   "metadata": {},
   "outputs": [],
   "source": [
    "generados = []\n",
    "for i in range(1000):\n",
    "    u_r = random.random()\n",
    "    x = u_r\n",
    "    probabilidad_aceptar = f_x(x) / 1.875\n",
    "    u_r = random.random()\n",
    "    if u_r < probabilidad_aceptar:\n",
    "        generados.append(x)"
   ]
  },
  {
   "cell_type": "code",
   "execution_count": 24,
   "metadata": {},
   "outputs": [
    {
     "data": {
      "text/plain": [
       "[0.577813514414744,\n",
       " 0.6058297907889937,\n",
       " 0.6651952412423845,\n",
       " 0.7442192338291646,\n",
       " 0.5023507433870387,\n",
       " 0.8104271090241121,\n",
       " 0.390329770063107,\n",
       " 0.30782727319308933,\n",
       " 0.8404543665349506,\n",
       " 0.5494816881086773,\n",
       " 0.4414602715728857,\n",
       " 0.5056335045048024,\n",
       " 0.640552464287665,\n",
       " 0.7207373969115682,\n",
       " 0.20917232867017788,\n",
       " 0.519788928828766,\n",
       " 0.8735394510263657,\n",
       " 0.321606191846736,\n",
       " 0.8207585521539802,\n",
       " 0.5674023581622613,\n",
       " 0.47099388977906254,\n",
       " 0.607792442301154,\n",
       " 0.6660475710863083,\n",
       " 0.2014153300156999,\n",
       " 0.7000290089571765,\n",
       " 0.4837814632679732,\n",
       " 0.14891735253505356,\n",
       " 0.19799449847662165,\n",
       " 0.31383523046575623,\n",
       " 0.5376319433164779,\n",
       " 0.5861099015705654,\n",
       " 0.3666476898909399,\n",
       " 0.4041181540135379,\n",
       " 0.528874183843547,\n",
       " 0.4147901612313163,\n",
       " 0.2153399245628873,\n",
       " 0.1721759661620319,\n",
       " 0.4400011727052292,\n",
       " 0.7905907753633025,\n",
       " 0.6927399943033811,\n",
       " 0.37635882495747897,\n",
       " 0.6109187511777597,\n",
       " 0.4120811305871289,\n",
       " 0.749113486184119,\n",
       " 0.8760988089735308,\n",
       " 0.6887920071824708,\n",
       " 0.5987364883271309,\n",
       " 0.08269772392667973,\n",
       " 0.8132376630798045,\n",
       " 0.5758485868037153,\n",
       " 0.18600419001460733,\n",
       " 0.7112487960275643,\n",
       " 0.5169814449066422,\n",
       " 0.7135732970233172,\n",
       " 0.6133259661432557,\n",
       " 0.5729374205692084,\n",
       " 0.23484746550913882,\n",
       " 0.3439088181316351,\n",
       " 0.20845457561852088,\n",
       " 0.48914588484892285,\n",
       " 0.6621606026851935,\n",
       " 0.4196088459765308,\n",
       " 0.5863404845704666,\n",
       " 0.45905468217205847,\n",
       " 0.38549187499393056,\n",
       " 0.8520838811518219,\n",
       " 0.4142121510723066,\n",
       " 0.38372867135266764,\n",
       " 0.5278381146445442,\n",
       " 0.48197383232156454,\n",
       " 0.31500488731031795,\n",
       " 0.6558951293655214,\n",
       " 0.7080460521445314,\n",
       " 0.768079406993783,\n",
       " 0.13838917800649164,\n",
       " 0.4141862710742792,\n",
       " 0.29752636728255655,\n",
       " 0.3294713272699894,\n",
       " 0.6845132983557941,\n",
       " 0.3800273817610538,\n",
       " 0.5716930115453734,\n",
       " 0.5462889054668216,\n",
       " 0.39241083930317666,\n",
       " 0.5161002000835202,\n",
       " 0.26841136377522334,\n",
       " 0.8482453537959691,\n",
       " 0.6230775456039304,\n",
       " 0.5353120863463274,\n",
       " 0.3353295756055923,\n",
       " 0.294553373035247,\n",
       " 0.27126861624325005,\n",
       " 0.5307064542892282,\n",
       " 0.33488446275608774,\n",
       " 0.5529467716819924,\n",
       " 0.17496198356753012,\n",
       " 0.5158809767941918,\n",
       " 0.3337558253392391,\n",
       " 0.7230022509192782,\n",
       " 0.7938914093588176,\n",
       " 0.23115343391033039,\n",
       " 0.619327087595701,\n",
       " 0.8289529925963868,\n",
       " 0.6491777952309017,\n",
       " 0.7302111687152887,\n",
       " 0.07491350393440865,\n",
       " 0.3585725488633994,\n",
       " 0.32244012679815426,\n",
       " 0.7074536228179484,\n",
       " 0.5553755386607434,\n",
       " 0.3673436811566223,\n",
       " 0.5172444124896651,\n",
       " 0.8530012669515288,\n",
       " 0.6045353073585676,\n",
       " 0.5934361494219795,\n",
       " 0.5125096569981102,\n",
       " 0.4717555133323368,\n",
       " 0.516779172730192,\n",
       " 0.637586298521265,\n",
       " 0.22382105819926712,\n",
       " 0.5441527202253852,\n",
       " 0.3991121223722125,\n",
       " 0.3543206477713564,\n",
       " 0.6940012264048936,\n",
       " 0.18288697621466687,\n",
       " 0.3118104923145538,\n",
       " 0.7755310814785846,\n",
       " 0.6939860231551193,\n",
       " 0.8969671307446638,\n",
       " 0.27980713019795334,\n",
       " 0.5648411775854899,\n",
       " 0.8126664996017432,\n",
       " 0.6812049059750349,\n",
       " 0.3430685778643088,\n",
       " 0.5827674164334815,\n",
       " 0.2082434187551987,\n",
       " 0.9093910925030669,\n",
       " 0.4399576854994346,\n",
       " 0.5041163158565989,\n",
       " 0.674625991780705,\n",
       " 0.06670535773211017,\n",
       " 0.5775424800262229,\n",
       " 0.3732218703609551,\n",
       " 0.42924223767412917,\n",
       " 0.7559578476718005,\n",
       " 0.28801705839990555,\n",
       " 0.5835343612913111,\n",
       " 0.46742973263473253,\n",
       " 0.7333280402187731,\n",
       " 0.7907670190098265,\n",
       " 0.4295073679049586,\n",
       " 0.6356677067798938,\n",
       " 0.7849353925446229,\n",
       " 0.6620368285108768,\n",
       " 0.6472530348184374,\n",
       " 0.25281970134007237,\n",
       " 0.7330579270267427,\n",
       " 0.7033258137020296,\n",
       " 0.5856311458772577,\n",
       " 0.5347298926653992,\n",
       " 0.6524780521990139,\n",
       " 0.8315337286204189,\n",
       " 0.5033010851686449,\n",
       " 0.48519205766621787,\n",
       " 0.4046740250507953,\n",
       " 0.3461740860675142,\n",
       " 0.5891712459226803,\n",
       " 0.5665118582378,\n",
       " 0.5269811139599124,\n",
       " 0.5965926230858177,\n",
       " 0.7100847389854429,\n",
       " 0.2690345991765296,\n",
       " 0.38251188411752024,\n",
       " 0.5172005749820978,\n",
       " 0.41082594733492894,\n",
       " 0.5639940906011187,\n",
       " 0.42687073978137835,\n",
       " 0.8797076577429952,\n",
       " 0.5673895866061032,\n",
       " 0.6525149403601056,\n",
       " 0.3231441781532719,\n",
       " 0.6884033104411843,\n",
       " 0.7511144613665267,\n",
       " 0.6439571855856834,\n",
       " 0.5710563067911258,\n",
       " 0.43969518477278446,\n",
       " 0.733044935635721,\n",
       " 0.4923540994292409,\n",
       " 0.46397928707144465,\n",
       " 0.4263570747858325,\n",
       " 0.6261265656178515,\n",
       " 0.5545989491592421,\n",
       " 0.3735799636710484,\n",
       " 0.5681479712645617,\n",
       " 0.3001646575252971,\n",
       " 0.5413170201453068,\n",
       " 0.6329666699356759,\n",
       " 0.7944300697891151,\n",
       " 0.15046710108689854,\n",
       " 0.45874856276814324,\n",
       " 0.603358975629979,\n",
       " 0.33337072054871564,\n",
       " 0.5416403207616776,\n",
       " 0.7137574984950767,\n",
       " 0.7970162434343236,\n",
       " 0.4573338646663544,\n",
       " 0.1335195299723233,\n",
       " 0.3768091582735096,\n",
       " 0.2757515411657626,\n",
       " 0.8066991784470109,\n",
       " 0.6278189287422906,\n",
       " 0.6783465768199526,\n",
       " 0.6875875413391398,\n",
       " 0.6509784125247852,\n",
       " 0.2325103771922601,\n",
       " 0.482082172791931,\n",
       " 0.4432469754660716,\n",
       " 0.3028642696568894,\n",
       " 0.5079854520916892,\n",
       " 0.49293389003306487,\n",
       " 0.8039359803929852,\n",
       " 0.6714723621970705,\n",
       " 0.5175256943928268,\n",
       " 0.6000883885811881,\n",
       " 0.5407054791219665,\n",
       " 0.2295335208160657,\n",
       " 0.24146865992411803,\n",
       " 0.25332161610374304,\n",
       " 0.4745017548690368,\n",
       " 0.6258398046473967,\n",
       " 0.43774012169736753,\n",
       " 0.7679258805469912,\n",
       " 0.4018888367400101,\n",
       " 0.44995420867351044,\n",
       " 0.6000160191416801,\n",
       " 0.3214240886620623,\n",
       " 0.3216966028751389,\n",
       " 0.5152081165390656,\n",
       " 0.5556614963256622,\n",
       " 0.18497783852042426,\n",
       " 0.3795012295351181,\n",
       " 0.6126385547171807,\n",
       " 0.552751467554451,\n",
       " 0.6565092283940994,\n",
       " 0.31926828938923757,\n",
       " 0.38390373368504294,\n",
       " 0.6265210371734387,\n",
       " 0.7272954042842092,\n",
       " 0.24895897935309774,\n",
       " 0.4388533515480757,\n",
       " 0.8576078572303232,\n",
       " 0.3967590962051716,\n",
       " 0.23101946943803853,\n",
       " 0.37006618701672267,\n",
       " 0.5730239037532108,\n",
       " 0.45311044055037797,\n",
       " 0.36518500924486375,\n",
       " 0.4747378199975072,\n",
       " 0.660183680933632,\n",
       " 0.6231093347171792,\n",
       " 0.7402793290290312,\n",
       " 0.37895394425129614,\n",
       " 0.8511725096012532,\n",
       " 0.1853444871444161,\n",
       " 0.23445347071190625,\n",
       " 0.31841631785304925,\n",
       " 0.27049199884406105,\n",
       " 0.5324723772752649,\n",
       " 0.5572560525323245,\n",
       " 0.36945778454950196,\n",
       " 0.3071004545284082,\n",
       " 0.7552241367922543,\n",
       " 0.3127532011951478,\n",
       " 0.8788584890842248,\n",
       " 0.5021317158255219,\n",
       " 0.6616781844973925,\n",
       " 0.46007891390840827,\n",
       " 0.39655887431385195,\n",
       " 0.6829077851546046,\n",
       " 0.5394947528336254,\n",
       " 0.3416273277465274,\n",
       " 0.4483703492539769,\n",
       " 0.4663243868239123,\n",
       " 0.5349233088269579,\n",
       " 0.43031747948279353,\n",
       " 0.31282152973305066,\n",
       " 0.3724945928618192,\n",
       " 0.2970516261189652,\n",
       " 0.532373197607757,\n",
       " 0.40809333537611114,\n",
       " 0.7040710693491242,\n",
       " 0.40254005648462776,\n",
       " 0.6169502401607114,\n",
       " 0.7931893008368687,\n",
       " 0.7245452674578347,\n",
       " 0.868197533317596,\n",
       " 0.5458191305710864,\n",
       " 0.5475232549570813,\n",
       " 0.6372961561827164,\n",
       " 0.499667391622031,\n",
       " 0.10429315541297313,\n",
       " 0.4419416149502987,\n",
       " 0.5604205301980174,\n",
       " 0.2821469308808723,\n",
       " 0.5224352013498007,\n",
       " 0.6513181190964563,\n",
       " 0.8129821977046489,\n",
       " 0.4356886765469242,\n",
       " 0.633763492382705,\n",
       " 0.6367174176478048,\n",
       " 0.4829257979863327,\n",
       " 0.38041992756306364,\n",
       " 0.5654510629043448,\n",
       " 0.7163606824403768,\n",
       " 0.5836336162903727,\n",
       " 0.5026765802095107,\n",
       " 0.4143996812120173,\n",
       " 0.12971951416606797,\n",
       " 0.5920997077368876,\n",
       " 0.5942501306151411,\n",
       " 0.0956338068624153,\n",
       " 0.5017471701134112,\n",
       " 0.761767895207653,\n",
       " 0.446957137768383,\n",
       " 0.592967416078226,\n",
       " 0.861678181874878,\n",
       " 0.503573907247232,\n",
       " 0.4847573547425933,\n",
       " 0.4270626685914427,\n",
       " 0.34339625083278524,\n",
       " 0.4484955169338444,\n",
       " 0.46094692381280045,\n",
       " 0.7479788232104146,\n",
       " 0.797091559364033,\n",
       " 0.5727356480881997,\n",
       " 0.49642279557799607,\n",
       " 0.6376403116304686,\n",
       " 0.30316351731386115,\n",
       " 0.33149414305363245,\n",
       " 0.8389293275914808,\n",
       " 0.27242702894329884,\n",
       " 0.5579058079216869,\n",
       " 0.32505050316792294,\n",
       " 0.4542298354146088,\n",
       " 0.22432256865571154,\n",
       " 0.7108065423243249,\n",
       " 0.5140042508580801,\n",
       " 0.17808613153414687,\n",
       " 0.24368393459103976,\n",
       " 0.6107307692155876,\n",
       " 0.47393732916174125,\n",
       " 0.44468032610110897,\n",
       " 0.546287476404301,\n",
       " 0.6116367355835347,\n",
       " 0.33535397758377894,\n",
       " 0.2508238168514647,\n",
       " 0.3171462009967032,\n",
       " 0.5084094431873394,\n",
       " 0.4208804333391132,\n",
       " 0.4177448350980142,\n",
       " 0.6467653043183996,\n",
       " 0.46827138617702047,\n",
       " 0.1564389406999982,\n",
       " 0.6824414914290635,\n",
       " 0.47757548586499154,\n",
       " 0.47238674928339686,\n",
       " 0.3076482065482097,\n",
       " 0.380826189037214,\n",
       " 0.4441047482680115,\n",
       " 0.37372534124082246,\n",
       " 0.6390113897961124,\n",
       " 0.3258373435181303,\n",
       " 0.13189691933385117,\n",
       " 0.5073028233262105,\n",
       " 0.6906738949066907,\n",
       " 0.5721134257232421,\n",
       " 0.36283927349710865,\n",
       " 0.6423754197008813,\n",
       " 0.6224975021687997,\n",
       " 0.2986125977456616,\n",
       " 0.3491730439917695,\n",
       " 0.7215955339176224,\n",
       " 0.30966987226325593,\n",
       " 0.5190378387133278,\n",
       " 0.4889141796136336,\n",
       " 0.9351511548469347,\n",
       " 0.5172861082076737,\n",
       " 0.3884206760457335,\n",
       " 0.5709505257950905,\n",
       " 0.3960824999607452,\n",
       " 0.4966138215326008,\n",
       " 0.32907128990041734,\n",
       " 0.6801361798566921,\n",
       " 0.2592434884879192,\n",
       " 0.23491311760007194,\n",
       " 0.36698977422659906,\n",
       " 0.5175805937387425,\n",
       " 0.5023389237797417,\n",
       " 0.571479665558597,\n",
       " 0.7199254610422542,\n",
       " 0.5329752434262147,\n",
       " 0.4045842049593936,\n",
       " 0.7157988927866938,\n",
       " 0.5266986122602354,\n",
       " 0.5777350432527869,\n",
       " 0.48193758862095415,\n",
       " 0.8020044093120049,\n",
       " 0.15438167260434166,\n",
       " 0.3170108461983574,\n",
       " 0.7928879979992192,\n",
       " 0.7700683705358828,\n",
       " 0.7153389292445149,\n",
       " 0.5811098212057063,\n",
       " 0.5635320620154327,\n",
       " 0.3760058396531635,\n",
       " 0.5198007618292628,\n",
       " 0.6525104749392477,\n",
       " 0.533539505447327,\n",
       " 0.38836207954692226,\n",
       " 0.46679736889649004,\n",
       " 0.24116832955110112,\n",
       " 0.4646611314602085,\n",
       " 0.46979677770732975,\n",
       " 0.3789130230564207,\n",
       " 0.49553165581331726,\n",
       " 0.26681961137143306,\n",
       " 0.6938754812496942,\n",
       " 0.40572243177699774,\n",
       " 0.17524920314137293,\n",
       " 0.6953793184821205,\n",
       " 0.13771185299667643,\n",
       " 0.6101891559297729,\n",
       " 0.478742761535371,\n",
       " 0.32031099169707333,\n",
       " 0.19308214420430614,\n",
       " 0.425640319565344,\n",
       " 0.827811099499632,\n",
       " 0.18072890530713892,\n",
       " 0.8402827507879951,\n",
       " 0.723756673295384,\n",
       " 0.13562811890968507,\n",
       " 0.47483974793495376,\n",
       " 0.4929850618374627,\n",
       " 0.5773849472764299,\n",
       " 0.3113587689329925,\n",
       " 0.5207825358151371,\n",
       " 0.7174582968769178,\n",
       " 0.42639377984927007,\n",
       " 0.5844362242749577,\n",
       " 0.30161648376173744,\n",
       " 0.31659131579214284,\n",
       " 0.38145711842764785,\n",
       " 0.2609467101293289,\n",
       " 0.7215392020141855,\n",
       " 0.3457424818674242,\n",
       " 0.844241824538602,\n",
       " 0.9125625960055042,\n",
       " 0.5039405693647194,\n",
       " 0.8362370701605308,\n",
       " 0.369673801794524,\n",
       " 0.7511689099678526,\n",
       " 0.31962343279271355,\n",
       " 0.6857285811340594,\n",
       " 0.5912005364011779,\n",
       " 0.1434164878834514,\n",
       " 0.46410416045479996,\n",
       " 0.2524646287585076,\n",
       " 0.5068773072976646,\n",
       " 0.34130542427847477,\n",
       " 0.6659223688192812,\n",
       " 0.443396177463402,\n",
       " 0.8517552447297368,\n",
       " 0.5310034547300664,\n",
       " 0.5690146603452013,\n",
       " 0.5942270333398293,\n",
       " 0.5992000179161613,\n",
       " 0.5252749788427906,\n",
       " 0.8237047030376782,\n",
       " 0.746919172508728,\n",
       " 0.6372235374893152,\n",
       " 0.717462890515924,\n",
       " 0.5577788285562286,\n",
       " 0.7229726975226389,\n",
       " 0.4282413309574894,\n",
       " 0.4407339125570312,\n",
       " 0.8944842049717606,\n",
       " 0.4240251247379818,\n",
       " 0.3783445059793742,\n",
       " 0.8154821688080447,\n",
       " 0.5638666318708339,\n",
       " 0.29267205704197685,\n",
       " 0.3671730489962466,\n",
       " 0.7729861449651446,\n",
       " 0.38180419640152274,\n",
       " 0.5338753211016886,\n",
       " 0.38311250545547737,\n",
       " 0.4125619998887895,\n",
       " 0.1414976667596456,\n",
       " 0.7693832164501906,\n",
       " 0.3458989194055907,\n",
       " 0.648359489632818,\n",
       " 0.5339353687589271]"
      ]
     },
     "execution_count": 24,
     "metadata": {},
     "output_type": "execute_result"
    }
   ],
   "source": [
    "generados"
   ]
  },
  {
   "cell_type": "code",
   "execution_count": 25,
   "metadata": {},
   "outputs": [
    {
     "data": {
      "text/plain": [
       "<matplotlib.collections.PathCollection at 0x7f894cbc0d90>"
      ]
     },
     "execution_count": 25,
     "metadata": {},
     "output_type": "execute_result"
    },
    {
     "data": {
      "image/png": "[encoded data removed]",
      "text/plain": [
       "<Figure size 432x288 with 1 Axes>"
      ]
     },
     "metadata": {
      "needs_background": "light"
     },
     "output_type": "display_data"
    }
   ],
   "source": [
    "plt.scatter(range(len(generados)), generados, c =\"blue\")"
   ]
  }
 ],
 "metadata": {
  "kernelspec": {
   "display_name": "Python 3",
   "language": "python",
   "name": "python3"
  },
  "language_info": {
   "codemirror_mode": {
    "name": "ipython",
    "version": 3
   },
   "file_extension": ".py",
   "mimetype": "text/x-python",
   "name": "python",
   "nbconvert_exporter": "python",
   "pygments_lexer": "ipython3",
   "version": "3.7.6"
  }
 },
 "nbformat": 4,
 "nbformat_minor": 4
}
